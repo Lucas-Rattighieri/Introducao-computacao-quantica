{
 "cells": [
  {
   "cell_type": "markdown",
   "id": "6f39ed3b",
   "metadata": {},
   "source": [
    "# Algoritmo de Determinação de Fase"
   ]
  },
  {
   "cell_type": "code",
   "execution_count": 3,
   "id": "d2b78c71",
   "metadata": {},
   "outputs": [],
   "source": [
    "import numpy as np\n",
    "import matplotlib.pyplot as plt\n",
    "\n",
    "from qiskit import *"
   ]
  },
  {
   "cell_type": "code",
   "execution_count": 14,
   "id": "6f4231c4",
   "metadata": {},
   "outputs": [],
   "source": [
    "# Porta que implementa a transformada de Fourier Quântica Inversa\n",
    "\n",
    "def QFTdgr(n, show_barrier=False):\n",
    "    qft_circuit = QuantumCircuit(n)\n",
    "    \n",
    "    for i in range(n // 2 - 1, -1, -1):\n",
    "        qft_circuit.swap(i, n - 1 - i)\n",
    "        \n",
    "    for i in range(n-1, -1, -1):\n",
    "        \n",
    "        k = n - i\n",
    "        \n",
    "        if show_barrier:\n",
    "            qft_circuit.barrier()\n",
    "        \n",
    "        for j in range(n-1, i, -1):\n",
    "            qft_circuit.cp(-2 * np.pi/ 2 ** k, j, i)\n",
    "            k -= 1\n",
    "        qft_circuit.h(i)\n",
    "               \n",
    "    \n",
    "    return qft_circuit"
   ]
  },
  {
   "cell_type": "code",
   "execution_count": 73,
   "id": "0a17039d",
   "metadata": {},
   "outputs": [
    {
     "data": {
      "image/png": "[encoded data removed]",
      "text/plain": [
       "<Figure size 1531.4x325.08 with 1 Axes>"
      ]
     },
     "execution_count": 73,
     "metadata": {},
     "output_type": "execute_result"
    }
   ],
   "source": [
    "# Algoritmo de estimativa de fase (Phase Estimation)\n",
    "\n",
    "t = 3\n",
    "phi = 0.4\n",
    "angle = 2 * np.pi * phi\n",
    "\n",
    "Uqft_dgr = QFTdgr(t).to_gate(label=r\"${QFT}^\\dagger$\")\n",
    "\n",
    "\n",
    "qpe = QuantumCircuit(t+1, t)\n",
    "\n",
    "qpe.h(range(t))\n",
    "\n",
    "qpe.x(t)\n",
    "\n",
    "repetitions = 2 ** (t - 1)\n",
    "\n",
    "for i in range(t):\n",
    "    for j in range(repetitions):\n",
    "        qpe.cp(angle, i, t)\n",
    "        \n",
    "    repetitions //= 2\n",
    "    \n",
    "    qpe.barrier()\n",
    "\n",
    "qpe.append(Uqft_dgr, range(t))\n",
    "\n",
    "qpe.barrier()\n",
    "\n",
    "qpe.measure(range(t), range(t))\n",
    "\n",
    "qpe.draw('mpl', fold=-1)"
   ]
  },
  {
   "cell_type": "code",
   "execution_count": 80,
   "id": "5effdeaa",
   "metadata": {},
   "outputs": [
    {
     "name": "stdout",
     "output_type": "stream",
     "text": [
      "{'110': 1}\n"
     ]
    }
   ],
   "source": [
    "# Execução do circuito\n",
    "\n",
    "backend = Aer.get_backend('qasm_simulator')\n",
    "\n",
    "result = execute(qpe, backend = backend, shots=1).result()\n",
    "resultado = result.get_counts()\n",
    "\n",
    "print(resultado)"
   ]
  },
  {
   "cell_type": "code",
   "execution_count": 81,
   "id": "61ab73fa",
   "metadata": {},
   "outputs": [
    {
     "name": "stdout",
     "output_type": "stream",
     "text": [
      "Valor do ângulo: 0.4\n",
      "valor obtido através do algoritmo: 0.375\n"
     ]
    }
   ],
   "source": [
    "# Conversão do estado medido na fase\n",
    "val = [int(j[::-1], 2) * 2 ** (-t) for j in resultado.keys()][0]\n",
    "\n",
    "print(\"Valor do ângulo:\", phi)\n",
    "print(\"valor obtido através do algoritmo:\", val)"
   ]
  }
 ],
 "metadata": {
  "kernelspec": {
   "display_name": "Python 3 (ipykernel)",
   "language": "python",
   "name": "python3"
  },
  "language_info": {
   "codemirror_mode": {
    "name": "ipython",
    "version": 3
   },
   "file_extension": ".py",
   "mimetype": "text/x-python",
   "name": "python",
   "nbconvert_exporter": "python",
   "pygments_lexer": "ipython3",
   "version": "3.9.12"
  }
 },
 "nbformat": 4,
 "nbformat_minor": 5
}
