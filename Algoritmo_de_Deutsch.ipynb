{
 "cells": [
  {
   "cell_type": "markdown",
   "id": "1c53c1db",
   "metadata": {},
   "source": [
    "# Algoritmo de Deutsch"
   ]
  },
  {
   "cell_type": "code",
   "execution_count": 1,
   "id": "8d82538f",
   "metadata": {},
   "outputs": [],
   "source": [
    "import numpy as np\n",
    "\n",
    "from qiskit import *"
   ]
  },
  {
   "cell_type": "code",
   "execution_count": 2,
   "id": "415aa533",
   "metadata": {},
   "outputs": [],
   "source": [
    "# Criação do oráculo\n",
    "\n",
    "def d_oracle(caso):\n",
    "    oracle = QuantumCircuit(2)\n",
    "    \n",
    "    f0_eh_0 = np.random.randint(0, 2)\n",
    "    \n",
    "    if caso == 'c':\n",
    "        if f0_eh_0:\n",
    "            oracle.i(1)\n",
    "        else:\n",
    "            oracle.x(1)\n",
    "    elif caso == 'b':\n",
    "        if f0_eh_0:\n",
    "            oracle.cx(0, 1)\n",
    "        else:\n",
    "            oracle.x(0)\n",
    "            oracle.cx(0, 1)\n",
    "            oracle.x(0)\n",
    "    \n",
    "    return oracle"
   ]
  },
  {
   "cell_type": "code",
   "execution_count": 3,
   "id": "7878b164",
   "metadata": {},
   "outputs": [],
   "source": [
    "# Criação da porta que representa o oráculo\n",
    "\n",
    "caso = np.random.choice(['c', 'b']) # sorteia c ou b\n",
    "\n",
    "circuito_Uf = d_oracle(caso)\n",
    "\n",
    "Uf = circuito_Uf.to_gate() # transforma o circuito em porta lógica\n",
    "\n",
    "Uf.name = '$U_f$'   # dá um nome para o circuito"
   ]
  },
  {
   "cell_type": "code",
   "execution_count": 4,
   "id": "c9262c85",
   "metadata": {},
   "outputs": [
    {
     "data": {
      "image/png": "[encoded data removed]",
      "text/plain": [
       "<Figure size 628.252x204.68 with 1 Axes>"
      ]
     },
     "execution_count": 4,
     "metadata": {},
     "output_type": "execute_result"
    }
   ],
   "source": [
    "# Circuito que implementa o algoritmo de Deutsch\n",
    "\n",
    "qc = QuantumCircuit(2, 2)\n",
    "\n",
    "qc.x(1)\n",
    "\n",
    "qc.barrier()\n",
    "\n",
    "qc.h(0)\n",
    "qc.h(1)\n",
    "\n",
    "qc.barrier()\n",
    "\n",
    "qc.append(Uf, [0, 1])\n",
    "\n",
    "qc.barrier()\n",
    "\n",
    "qc.h(0)\n",
    "\n",
    "qc.barrier()\n",
    "\n",
    "qc.measure(0, 0)\n",
    "\n",
    "qc.draw('mpl')"
   ]
  },
  {
   "cell_type": "code",
   "execution_count": 5,
   "id": "704f050e",
   "metadata": {},
   "outputs": [],
   "source": [
    "# Execução do Circuito\n",
    "\n",
    "backend = Aer.get_backend('qasm_simulator')\n",
    "job = execute(qc, shots = 1, backend=backend)\n",
    "resultado = job.result()"
   ]
  },
  {
   "cell_type": "code",
   "execution_count": 6,
   "id": "2e04d600",
   "metadata": {},
   "outputs": [
    {
     "name": "stdout",
     "output_type": "stream",
     "text": [
      "{'01': 1}\n",
      "b\n"
     ]
    }
   ],
   "source": [
    "# Resultados\n",
    "\n",
    "# No qiskit as bitstrings são lidas da direita para esquerda ('01' = |10>)\n",
    "print(resultado.get_counts())\n",
    "\n",
    "\n",
    "print(caso)"
   ]
  }
 ],
 "metadata": {
  "kernelspec": {
   "display_name": "Python 3 (ipykernel)",
   "language": "python",
   "name": "python3"
  },
  "language_info": {
   "codemirror_mode": {
    "name": "ipython",
    "version": 3
   },
   "file_extension": ".py",
   "mimetype": "text/x-python",
   "name": "python",
   "nbconvert_exporter": "python",
   "pygments_lexer": "ipython3",
   "version": "3.9.12"
  }
 },
 "nbformat": 4,
 "nbformat_minor": 5
}
