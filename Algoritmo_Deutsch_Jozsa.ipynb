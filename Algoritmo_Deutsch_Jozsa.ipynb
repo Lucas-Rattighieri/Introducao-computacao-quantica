{
 "cells": [
  {
   "cell_type": "markdown",
   "id": "595f315e",
   "metadata": {},
   "source": [
    "# Algoritmo de Deutsch-Jozsa"
   ]
  },
  {
   "cell_type": "code",
   "execution_count": 1,
   "id": "e931696a",
   "metadata": {},
   "outputs": [],
   "source": [
    "import numpy as np\n",
    "\n",
    "from qiskit import *"
   ]
  },
  {
   "cell_type": "code",
   "execution_count": 3,
   "id": "a62711d2",
   "metadata": {},
   "outputs": [],
   "source": [
    "# Definição do Oráculo\n",
    "\n",
    "def dj_oracle(caso, n):\n",
    "    oracle = QuantumCircuit(n+1)\n",
    "    \n",
    "    if caso == 'c':\n",
    "        oracle.i(n)\n",
    "        \n",
    "    elif caso == 'b':\n",
    "        for i in range(n):\n",
    "            oracle.cx(i, n)\n",
    "    \n",
    "    return oracle        "
   ]
  },
  {
   "cell_type": "code",
   "execution_count": 14,
   "id": "14d5c92a",
   "metadata": {},
   "outputs": [],
   "source": [
    "# Criação da porta que implementa o oráculo\n",
    "\n",
    "n = 3\n",
    "\n",
    "caso = np.random.choice(['b', 'c'])\n",
    "\n",
    "Uf = dj_oracle(caso, n).to_gate()\n",
    "Uf.name = '$U_f$'"
   ]
  },
  {
   "cell_type": "code",
   "execution_count": 18,
   "id": "f98404d8",
   "metadata": {},
   "outputs": [
    {
     "data": {
      "image/png": "[encoded data removed]",
      "text/plain": [
       "<Figure size 748.797x325.08 with 1 Axes>"
      ]
     },
     "execution_count": 18,
     "metadata": {},
     "output_type": "execute_result"
    }
   ],
   "source": [
    "# Circuito do algoritmo de Deutsch-Josza\n",
    "\n",
    "qc = QuantumCircuit(n+1, n)\n",
    "\n",
    "qc.x(n)\n",
    "\n",
    "qc.barrier()\n",
    "\n",
    "qc.h(range(n+1))\n",
    "\n",
    "qc.barrier()\n",
    "\n",
    "qc.append(Uf, range(0, n+1))\n",
    "\n",
    "qc.barrier()\n",
    "\n",
    "qc.h(range(n))\n",
    "    \n",
    "qc.barrier()\n",
    "\n",
    "qc.measure(range(n), range(n))\n",
    "\n",
    "qc.draw('mpl')"
   ]
  },
  {
   "cell_type": "code",
   "execution_count": 19,
   "id": "c434216c",
   "metadata": {},
   "outputs": [
    {
     "name": "stdout",
     "output_type": "stream",
     "text": [
      "{'000': 1}\n",
      "c\n"
     ]
    }
   ],
   "source": [
    "# Execução do algoritmo\n",
    "\n",
    "backend = Aer.get_backend('qasm_simulator')\n",
    "\n",
    "job = execute(qc, shots = 1, backend = backend)\n",
    "\n",
    "resultado = job.result()\n",
    "\n",
    "\n",
    "# Resultados\n",
    "print(resultado.get_counts())\n",
    "\n",
    "print(caso)"
   ]
  }
 ],
 "metadata": {
  "kernelspec": {
   "display_name": "Python 3 (ipykernel)",
   "language": "python",
   "name": "python3"
  },
  "language_info": {
   "codemirror_mode": {
    "name": "ipython",
    "version": 3
   },
   "file_extension": ".py",
   "mimetype": "text/x-python",
   "name": "python",
   "nbconvert_exporter": "python",
   "pygments_lexer": "ipython3",
   "version": "3.9.12"
  }
 },
 "nbformat": 4,
 "nbformat_minor": 5
}
